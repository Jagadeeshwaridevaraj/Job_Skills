{
 "cells": [
  {
   "cell_type": "code",
   "execution_count": 1,
   "metadata": {
    "id": "5IomIpQkdFav"
   },
   "outputs": [],
   "source": [
    "import pandas as pd"
   ]
  },
  {
   "cell_type": "code",
   "execution_count": 10,
   "metadata": {
    "colab": {
     "base_uri": "https://localhost:8080/",
     "height": 287
    },
    "executionInfo": {
     "elapsed": 13,
     "status": "error",
     "timestamp": 1738043355176,
     "user": {
      "displayName": "Jagadeeshwari Devaraj",
      "userId": "06171420024115705054"
     },
     "user_tz": -330
    },
    "id": "9W3kwCbPdFaz",
    "outputId": "00ab3dab-30c7-4300-f0fc-279ec062e110"
   },
   "outputs": [],
   "source": [
    "jobs_df= pd.read_csv(\"D:\\ProIT bridge\\Jagadeeshwari\\My Projects\\Job_Skills\\scraping\\DataScientist_Jobs_500.csv\")"
   ]
  },
  {
   "cell_type": "code",
   "execution_count": 11,
   "metadata": {
    "id": "DjtGyTkRdFa0",
    "outputId": "50935a66-1412-498b-e383-2dbe8b7f9148"
   },
   "outputs": [
    {
     "data": {
      "text/html": [
       "<div>\n",
       "<style scoped>\n",
       "    .dataframe tbody tr th:only-of-type {\n",
       "        vertical-align: middle;\n",
       "    }\n",
       "\n",
       "    .dataframe tbody tr th {\n",
       "        vertical-align: top;\n",
       "    }\n",
       "\n",
       "    .dataframe thead th {\n",
       "        text-align: right;\n",
       "    }\n",
       "</style>\n",
       "<table border=\"1\" class=\"dataframe\">\n",
       "  <thead>\n",
       "    <tr style=\"text-align: right;\">\n",
       "      <th></th>\n",
       "      <th>Title</th>\n",
       "      <th>Company</th>\n",
       "      <th>Experience</th>\n",
       "      <th>Salary</th>\n",
       "      <th>Location</th>\n",
       "      <th>Skills</th>\n",
       "      <th>Posting_Date</th>\n",
       "      <th>Job_Description</th>\n",
       "      <th>Job_URL</th>\n",
       "    </tr>\n",
       "  </thead>\n",
       "  <tbody>\n",
       "    <tr>\n",
       "      <th>0</th>\n",
       "      <td>Data Scientist</td>\n",
       "      <td>Virtusa</td>\n",
       "      <td>1-5 Yrs</td>\n",
       "      <td>Not disclosed</td>\n",
       "      <td>Bengaluru</td>\n",
       "      <td>Computer vision, deep learning, C++, GCP, Mach...</td>\n",
       "      <td>4 Days Ago</td>\n",
       "      <td>AI Engineer - Design and implement generative ...</td>\n",
       "      <td>https://www.naukri.com/job-listings-data-scien...</td>\n",
       "    </tr>\n",
       "    <tr>\n",
       "      <th>1</th>\n",
       "      <td>Sr. Data Scientist, Marketing Analytics</td>\n",
       "      <td>Coursera</td>\n",
       "      <td>0-5 Yrs</td>\n",
       "      <td>Not disclosed</td>\n",
       "      <td>Bengaluru, Kolkata, Mumbai, New Delhi, Hyderab...</td>\n",
       "      <td>Computer science, Statistical programming, Dat...</td>\n",
       "      <td>12 Days Ago</td>\n",
       "      <td>Collaborate with marketing teams to define KPI...</td>\n",
       "      <td>https://www.naukri.com/job-listings-sr-data-sc...</td>\n",
       "    </tr>\n",
       "    <tr>\n",
       "      <th>2</th>\n",
       "      <td>Data Scientist</td>\n",
       "      <td>Leading Client</td>\n",
       "      <td>0-5 Yrs</td>\n",
       "      <td>Not disclosed</td>\n",
       "      <td>Bengaluru</td>\n",
       "      <td>Data Science, algorithms, data analysis, predi...</td>\n",
       "      <td>9 Days Ago</td>\n",
       "      <td>Utilize advanced statistical, mathematical, an...</td>\n",
       "      <td>https://www.naukri.com/job-listings-data-scien...</td>\n",
       "    </tr>\n",
       "    <tr>\n",
       "      <th>3</th>\n",
       "      <td>Data Scientist &amp; Experimentation Analyst</td>\n",
       "      <td>Encora</td>\n",
       "      <td>0-5 Yrs</td>\n",
       "      <td>Not disclosed</td>\n",
       "      <td>Bengaluru</td>\n",
       "      <td>Product engineering, Data analysis, Statistica...</td>\n",
       "      <td>30+ Days Ago</td>\n",
       "      <td>Data Scientist &amp; Experimentation Analyst\\nImpo...</td>\n",
       "      <td>https://www.naukri.com/job-listings-data-scien...</td>\n",
       "    </tr>\n",
       "    <tr>\n",
       "      <th>4</th>\n",
       "      <td>Data Scientist (Sales and Marketing Analytics)</td>\n",
       "      <td>SOBHA</td>\n",
       "      <td>4-8 Yrs</td>\n",
       "      <td>Not disclosed</td>\n",
       "      <td>Bengaluru</td>\n",
       "      <td>Data Science, KPI Analysis, Artificial Intelli...</td>\n",
       "      <td>Just Now</td>\n",
       "      <td>Role Overview:\\nWe are looking for an experien...</td>\n",
       "      <td>https://www.naukri.com/job-listings-data-scien...</td>\n",
       "    </tr>\n",
       "    <tr>\n",
       "      <th>...</th>\n",
       "      <td>...</td>\n",
       "      <td>...</td>\n",
       "      <td>...</td>\n",
       "      <td>...</td>\n",
       "      <td>...</td>\n",
       "      <td>...</td>\n",
       "      <td>...</td>\n",
       "      <td>...</td>\n",
       "      <td>...</td>\n",
       "    </tr>\n",
       "    <tr>\n",
       "      <th>492</th>\n",
       "      <td>Lead Data Scientist</td>\n",
       "      <td>Comviva Technology</td>\n",
       "      <td>7-9 Yrs</td>\n",
       "      <td>Not disclosed</td>\n",
       "      <td>Bengaluru</td>\n",
       "      <td>Text mining, Telecom, data science, MySQL, Mac...</td>\n",
       "      <td>24 Days Ago</td>\n",
       "      <td>Total Experience\\n7 - 9 years overall experien...</td>\n",
       "      <td>https://www.naukri.com/job-listings-lead-data-...</td>\n",
       "    </tr>\n",
       "    <tr>\n",
       "      <th>493</th>\n",
       "      <td>Data Scientist: Advanced Analytics</td>\n",
       "      <td>IBM</td>\n",
       "      <td>3-7 Yrs</td>\n",
       "      <td>Not disclosed</td>\n",
       "      <td>Bengaluru</td>\n",
       "      <td>amazon lex, kinesis, node.js, iam, amazon clou...</td>\n",
       "      <td>25 Days Ago</td>\n",
       "      <td>Your Role and Responsibilities\\nWork with broa...</td>\n",
       "      <td>https://www.naukri.com/job-listings-data-scien...</td>\n",
       "    </tr>\n",
       "    <tr>\n",
       "      <th>494</th>\n",
       "      <td>Senior Data Scientist</td>\n",
       "      <td>Terawe Technologies</td>\n",
       "      <td>7-10 Yrs</td>\n",
       "      <td>Not disclosed</td>\n",
       "      <td>Bengaluru</td>\n",
       "      <td>Data Science, Communicational Skills, Technica...</td>\n",
       "      <td>25 Days Ago</td>\n",
       "      <td>Role Senior Data Scientist\\nEducational Qualif...</td>\n",
       "      <td>https://www.naukri.com/job-listings-senior-dat...</td>\n",
       "    </tr>\n",
       "    <tr>\n",
       "      <th>495</th>\n",
       "      <td>Data Scientist/ Sr. Data Scientist</td>\n",
       "      <td>Lufthansa Technik AG</td>\n",
       "      <td>4-8 Yrs</td>\n",
       "      <td>Not disclosed</td>\n",
       "      <td>Hybrid - Bengaluru</td>\n",
       "      <td>SQL, MLOPs, time series modeling, Azure Cloud,...</td>\n",
       "      <td>27 Days Ago</td>\n",
       "      <td>Role &amp; responsibilities:\\n\\nDelivery of Key Pr...</td>\n",
       "      <td>https://www.naukri.com/job-listings-data-scien...</td>\n",
       "    </tr>\n",
       "    <tr>\n",
       "      <th>496</th>\n",
       "      <td>Senior Data Scientist</td>\n",
       "      <td>Savantys Solutions</td>\n",
       "      <td>5-10 Yrs</td>\n",
       "      <td>Not disclosed</td>\n",
       "      <td>Bengaluru, Hyderabad, Pune</td>\n",
       "      <td>deep learning, Neural networks, Pharma, Analyt...</td>\n",
       "      <td>30+ Days Ago</td>\n",
       "      <td>3+ years of experience using analytical tools/...</td>\n",
       "      <td>https://www.naukri.com/job-listings-senior-dat...</td>\n",
       "    </tr>\n",
       "  </tbody>\n",
       "</table>\n",
       "<p>497 rows × 9 columns</p>\n",
       "</div>"
      ],
      "text/plain": [
       "                                              Title               Company  \\\n",
       "0                                    Data Scientist               Virtusa   \n",
       "1           Sr. Data Scientist, Marketing Analytics              Coursera   \n",
       "2                                    Data Scientist        Leading Client   \n",
       "3          Data Scientist & Experimentation Analyst                Encora   \n",
       "4    Data Scientist (Sales and Marketing Analytics)                 SOBHA   \n",
       "..                                              ...                   ...   \n",
       "492                             Lead Data Scientist    Comviva Technology   \n",
       "493              Data Scientist: Advanced Analytics                   IBM   \n",
       "494                           Senior Data Scientist   Terawe Technologies   \n",
       "495              Data Scientist/ Sr. Data Scientist  Lufthansa Technik AG   \n",
       "496                           Senior Data Scientist    Savantys Solutions   \n",
       "\n",
       "    Experience         Salary  \\\n",
       "0      1-5 Yrs  Not disclosed   \n",
       "1      0-5 Yrs  Not disclosed   \n",
       "2      0-5 Yrs  Not disclosed   \n",
       "3      0-5 Yrs  Not disclosed   \n",
       "4      4-8 Yrs  Not disclosed   \n",
       "..         ...            ...   \n",
       "492    7-9 Yrs  Not disclosed   \n",
       "493    3-7 Yrs  Not disclosed   \n",
       "494   7-10 Yrs  Not disclosed   \n",
       "495    4-8 Yrs  Not disclosed   \n",
       "496   5-10 Yrs  Not disclosed   \n",
       "\n",
       "                                              Location  \\\n",
       "0                                            Bengaluru   \n",
       "1    Bengaluru, Kolkata, Mumbai, New Delhi, Hyderab...   \n",
       "2                                            Bengaluru   \n",
       "3                                            Bengaluru   \n",
       "4                                            Bengaluru   \n",
       "..                                                 ...   \n",
       "492                                          Bengaluru   \n",
       "493                                          Bengaluru   \n",
       "494                                          Bengaluru   \n",
       "495                                 Hybrid - Bengaluru   \n",
       "496                         Bengaluru, Hyderabad, Pune   \n",
       "\n",
       "                                                Skills  Posting_Date  \\\n",
       "0    Computer vision, deep learning, C++, GCP, Mach...    4 Days Ago   \n",
       "1    Computer science, Statistical programming, Dat...   12 Days Ago   \n",
       "2    Data Science, algorithms, data analysis, predi...    9 Days Ago   \n",
       "3    Product engineering, Data analysis, Statistica...  30+ Days Ago   \n",
       "4    Data Science, KPI Analysis, Artificial Intelli...      Just Now   \n",
       "..                                                 ...           ...   \n",
       "492  Text mining, Telecom, data science, MySQL, Mac...   24 Days Ago   \n",
       "493  amazon lex, kinesis, node.js, iam, amazon clou...   25 Days Ago   \n",
       "494  Data Science, Communicational Skills, Technica...   25 Days Ago   \n",
       "495  SQL, MLOPs, time series modeling, Azure Cloud,...   27 Days Ago   \n",
       "496  deep learning, Neural networks, Pharma, Analyt...  30+ Days Ago   \n",
       "\n",
       "                                       Job_Description  \\\n",
       "0    AI Engineer - Design and implement generative ...   \n",
       "1    Collaborate with marketing teams to define KPI...   \n",
       "2    Utilize advanced statistical, mathematical, an...   \n",
       "3    Data Scientist & Experimentation Analyst\\nImpo...   \n",
       "4    Role Overview:\\nWe are looking for an experien...   \n",
       "..                                                 ...   \n",
       "492  Total Experience\\n7 - 9 years overall experien...   \n",
       "493  Your Role and Responsibilities\\nWork with broa...   \n",
       "494  Role Senior Data Scientist\\nEducational Qualif...   \n",
       "495  Role & responsibilities:\\n\\nDelivery of Key Pr...   \n",
       "496  3+ years of experience using analytical tools/...   \n",
       "\n",
       "                                               Job_URL  \n",
       "0    https://www.naukri.com/job-listings-data-scien...  \n",
       "1    https://www.naukri.com/job-listings-sr-data-sc...  \n",
       "2    https://www.naukri.com/job-listings-data-scien...  \n",
       "3    https://www.naukri.com/job-listings-data-scien...  \n",
       "4    https://www.naukri.com/job-listings-data-scien...  \n",
       "..                                                 ...  \n",
       "492  https://www.naukri.com/job-listings-lead-data-...  \n",
       "493  https://www.naukri.com/job-listings-data-scien...  \n",
       "494  https://www.naukri.com/job-listings-senior-dat...  \n",
       "495  https://www.naukri.com/job-listings-data-scien...  \n",
       "496  https://www.naukri.com/job-listings-senior-dat...  \n",
       "\n",
       "[497 rows x 9 columns]"
      ]
     },
     "execution_count": 11,
     "metadata": {},
     "output_type": "execute_result"
    }
   ],
   "source": [
    "jobs_df"
   ]
  },
  {
   "cell_type": "code",
   "execution_count": null,
   "metadata": {
    "id": "mK0Ys_9NdFa1",
    "outputId": "a995650f-7adf-4f19-f173-1d1b2dfd615f"
   },
   "outputs": [
    {
     "data": {
      "text/plain": [
       "Index(['Title', 'Company', 'Experience', 'Salary', 'Location', 'Skills',\n",
       "       'Posting_Date', 'Job_Description', 'Job_URL'],\n",
       "      dtype='object')"
      ]
     },
     "execution_count": 7,
     "metadata": {},
     "output_type": "execute_result"
    }
   ],
   "source": [
    "jobs_df.columns"
   ]
  },
  {
   "cell_type": "code",
   "execution_count": null,
   "metadata": {
    "id": "Nv1gBdnOdFa2",
    "outputId": "26470700-5da9-4860-d5e9-42f95949b139"
   },
   "outputs": [
    {
     "data": {
      "text/plain": [
       "Title              0\n",
       "Company            0\n",
       "Experience         0\n",
       "Salary             0\n",
       "Location           0\n",
       "Skills             4\n",
       "Posting_Date       0\n",
       "Job_Description    3\n",
       "Job_URL            0\n",
       "dtype: int64"
      ]
     },
     "execution_count": 8,
     "metadata": {},
     "output_type": "execute_result"
    }
   ],
   "source": [
    "jobs_df.isnull().sum()"
   ]
  },
  {
   "cell_type": "code",
   "execution_count": null,
   "metadata": {
    "id": "L0yh4gcYdFa3"
   },
   "outputs": [],
   "source": [
    "jobs_df['Skills'] = jobs_df['Skills'].fillna('Not Provided')"
   ]
  },
  {
   "cell_type": "code",
   "execution_count": null,
   "metadata": {
    "id": "Njvf3VeWdFa3"
   },
   "outputs": [],
   "source": [
    "skills_list = jobs_df['Skills']"
   ]
  },
  {
   "cell_type": "code",
   "execution_count": null,
   "metadata": {
    "id": "RHemMsDodFa4",
    "outputId": "8e1f9d81-6beb-4c84-b61f-b86662ea84d1"
   },
   "outputs": [
    {
     "data": {
      "text/plain": [
       "0      healthcare operations, Coding, Data Analyst, D...\n",
       "1      Data Analytics, Devops, Power Bi, Hadoop Stack...\n",
       "2      Service delivery, Senior management, Product s...\n",
       "3      English, Oriya, Geography, Malayalam, Social M...\n",
       "4      Pivot Table, MS Excel, Formulas, Pivot, MIS Re...\n",
       "                             ...                        \n",
       "495    Unix, Performance tuning, Business objects, Ap...\n",
       "496    Computer science, Business analysis, Informati...\n",
       "497    Linux, Neural networks, Pharma, Consulting, Ma...\n",
       "498    Automation, Version control, GIT, Pharma, Cons...\n",
       "499    Cloud Encryption, Tokenization, Data Cloud, Sa...\n",
       "Name: Skills, Length: 500, dtype: object"
      ]
     },
     "execution_count": 11,
     "metadata": {},
     "output_type": "execute_result"
    }
   ],
   "source": [
    "skills_list"
   ]
  },
  {
   "cell_type": "code",
   "execution_count": null,
   "metadata": {
    "id": "ESupOtaudFa5",
    "outputId": "08e55250-ade8-48ad-e8fc-58ca2f8bda7d"
   },
   "outputs": [
    {
     "ename": "NameError",
     "evalue": "name 'Skills' is not defined",
     "output_type": "error",
     "traceback": [
      "\u001b[1;31m---------------------------------------------------------------------------\u001b[0m",
      "\u001b[1;31mNameError\u001b[0m                                 Traceback (most recent call last)",
      "Cell \u001b[1;32mIn[20], line 1\u001b[0m\n\u001b[1;32m----> 1\u001b[0m \u001b[38;5;28mtype\u001b[39m(\u001b[43mSkills\u001b[49m)\n",
      "\u001b[1;31mNameError\u001b[0m: name 'Skills' is not defined"
     ]
    }
   ],
   "source": []
  },
  {
   "cell_type": "code",
   "execution_count": null,
   "metadata": {
    "id": "9AR5JeY2dFa6",
    "outputId": "cc08803b-c9bb-4594-dacd-49d53ad24c4a"
   },
   "outputs": [
    {
     "data": {
      "text/html": [
       "<div>\n",
       "<style scoped>\n",
       "    .dataframe tbody tr th:only-of-type {\n",
       "        vertical-align: middle;\n",
       "    }\n",
       "\n",
       "    .dataframe tbody tr th {\n",
       "        vertical-align: top;\n",
       "    }\n",
       "\n",
       "    .dataframe thead th {\n",
       "        text-align: right;\n",
       "    }\n",
       "</style>\n",
       "<table border=\"1\" class=\"dataframe\">\n",
       "  <thead>\n",
       "    <tr style=\"text-align: right;\">\n",
       "      <th></th>\n",
       "      <th>Skill</th>\n",
       "      <th>Count</th>\n",
       "    </tr>\n",
       "  </thead>\n",
       "  <tbody>\n",
       "    <tr>\n",
       "      <th>0</th>\n",
       "      <td>data analysis</td>\n",
       "      <td>263</td>\n",
       "    </tr>\n",
       "    <tr>\n",
       "      <th>1</th>\n",
       "      <td>sql</td>\n",
       "      <td>123</td>\n",
       "    </tr>\n",
       "    <tr>\n",
       "      <th>2</th>\n",
       "      <td>data analyst</td>\n",
       "      <td>111</td>\n",
       "    </tr>\n",
       "    <tr>\n",
       "      <th>3</th>\n",
       "      <td>python</td>\n",
       "      <td>110</td>\n",
       "    </tr>\n",
       "    <tr>\n",
       "      <th>4</th>\n",
       "      <td>analytical</td>\n",
       "      <td>99</td>\n",
       "    </tr>\n",
       "    <tr>\n",
       "      <th>...</th>\n",
       "      <td>...</td>\n",
       "      <td>...</td>\n",
       "    </tr>\n",
       "    <tr>\n",
       "      <th>904</th>\n",
       "      <td>regression testing</td>\n",
       "      <td>1</td>\n",
       "    </tr>\n",
       "    <tr>\n",
       "      <th>905</th>\n",
       "      <td>testing tools</td>\n",
       "      <td>1</td>\n",
       "    </tr>\n",
       "    <tr>\n",
       "      <th>906</th>\n",
       "      <td>system testing</td>\n",
       "      <td>1</td>\n",
       "    </tr>\n",
       "    <tr>\n",
       "      <th>907</th>\n",
       "      <td>github</td>\n",
       "      <td>1</td>\n",
       "    </tr>\n",
       "    <tr>\n",
       "      <th>908</th>\n",
       "      <td>ansi x2</td>\n",
       "      <td>1</td>\n",
       "    </tr>\n",
       "  </tbody>\n",
       "</table>\n",
       "<p>909 rows × 2 columns</p>\n",
       "</div>"
      ],
      "text/plain": [
       "                  Skill  Count\n",
       "0         data analysis    263\n",
       "1                   sql    123\n",
       "2          data analyst    111\n",
       "3                python    110\n",
       "4            analytical     99\n",
       "..                  ...    ...\n",
       "904  regression testing      1\n",
       "905       testing tools      1\n",
       "906      system testing      1\n",
       "907              github      1\n",
       "908             ansi x2      1\n",
       "\n",
       "[909 rows x 2 columns]"
      ]
     },
     "execution_count": 17,
     "metadata": {},
     "output_type": "execute_result"
    }
   ],
   "source": [
    "from collections import Counter\n",
    "import pandas as pd\n",
    "\n",
    "# Convert the skills column to lowercase\n",
    "jobs_df['Skills'] = jobs_df['Skills'].str.lower()\n",
    "\n",
    "# Split skills into individual items and flatten the list\n",
    "skills_list = jobs_df['Skills'].str.split(',').explode().str.strip()\n",
    "\n",
    "# Count unique skills\n",
    "skills_count = Counter(skills_list)\n",
    "\n",
    "# Convert the count to a DataFrame\n",
    "skills_count_df = pd.DataFrame(list(skills_count.items()), columns=['Skill', 'Count'])\n",
    "\n",
    "# Sort by count in descending order\n",
    "skills_count_df = skills_count_df.sort_values(by='Count', ascending=False).reset_index(drop=True)\n",
    "\n",
    "skills_count_df\n"
   ]
  },
  {
   "cell_type": "code",
   "execution_count": null,
   "metadata": {
    "id": "DfhsmWnldFa7",
    "outputId": "26af4fa6-70f4-49f1-9454-7ba04cd5f30b"
   },
   "outputs": [
    {
     "data": {
      "text/html": [
       "<div>\n",
       "<style scoped>\n",
       "    .dataframe tbody tr th:only-of-type {\n",
       "        vertical-align: middle;\n",
       "    }\n",
       "\n",
       "    .dataframe tbody tr th {\n",
       "        vertical-align: top;\n",
       "    }\n",
       "\n",
       "    .dataframe thead th {\n",
       "        text-align: right;\n",
       "    }\n",
       "</style>\n",
       "<table border=\"1\" class=\"dataframe\">\n",
       "  <thead>\n",
       "    <tr style=\"text-align: right;\">\n",
       "      <th></th>\n",
       "      <th>Skill</th>\n",
       "      <th>Count</th>\n",
       "    </tr>\n",
       "  </thead>\n",
       "  <tbody>\n",
       "    <tr>\n",
       "      <th>0</th>\n",
       "      <td>data analysis</td>\n",
       "      <td>263</td>\n",
       "    </tr>\n",
       "    <tr>\n",
       "      <th>1</th>\n",
       "      <td>sql</td>\n",
       "      <td>123</td>\n",
       "    </tr>\n",
       "    <tr>\n",
       "      <th>2</th>\n",
       "      <td>data analyst</td>\n",
       "      <td>111</td>\n",
       "    </tr>\n",
       "    <tr>\n",
       "      <th>3</th>\n",
       "      <td>python</td>\n",
       "      <td>110</td>\n",
       "    </tr>\n",
       "    <tr>\n",
       "      <th>4</th>\n",
       "      <td>analytical</td>\n",
       "      <td>99</td>\n",
       "    </tr>\n",
       "    <tr>\n",
       "      <th>5</th>\n",
       "      <td>data analytics</td>\n",
       "      <td>74</td>\n",
       "    </tr>\n",
       "    <tr>\n",
       "      <th>6</th>\n",
       "      <td>power bi</td>\n",
       "      <td>71</td>\n",
       "    </tr>\n",
       "    <tr>\n",
       "      <th>7</th>\n",
       "      <td>analytics</td>\n",
       "      <td>68</td>\n",
       "    </tr>\n",
       "    <tr>\n",
       "      <th>8</th>\n",
       "      <td>data</td>\n",
       "      <td>64</td>\n",
       "    </tr>\n",
       "    <tr>\n",
       "      <th>9</th>\n",
       "      <td>data management</td>\n",
       "      <td>50</td>\n",
       "    </tr>\n",
       "    <tr>\n",
       "      <th>10</th>\n",
       "      <td>data quality</td>\n",
       "      <td>46</td>\n",
       "    </tr>\n",
       "    <tr>\n",
       "      <th>11</th>\n",
       "      <td>machine learning</td>\n",
       "      <td>42</td>\n",
       "    </tr>\n",
       "    <tr>\n",
       "      <th>12</th>\n",
       "      <td>business intelligence</td>\n",
       "      <td>42</td>\n",
       "    </tr>\n",
       "    <tr>\n",
       "      <th>13</th>\n",
       "      <td>tableau</td>\n",
       "      <td>39</td>\n",
       "    </tr>\n",
       "    <tr>\n",
       "      <th>14</th>\n",
       "      <td>data mining</td>\n",
       "      <td>38</td>\n",
       "    </tr>\n",
       "    <tr>\n",
       "      <th>15</th>\n",
       "      <td>computer science</td>\n",
       "      <td>37</td>\n",
       "    </tr>\n",
       "    <tr>\n",
       "      <th>16</th>\n",
       "      <td>data visualization</td>\n",
       "      <td>36</td>\n",
       "    </tr>\n",
       "    <tr>\n",
       "      <th>17</th>\n",
       "      <td>automation</td>\n",
       "      <td>32</td>\n",
       "    </tr>\n",
       "    <tr>\n",
       "      <th>18</th>\n",
       "      <td>excel</td>\n",
       "      <td>30</td>\n",
       "    </tr>\n",
       "    <tr>\n",
       "      <th>19</th>\n",
       "      <td>data modeling</td>\n",
       "      <td>30</td>\n",
       "    </tr>\n",
       "  </tbody>\n",
       "</table>\n",
       "</div>"
      ],
      "text/plain": [
       "                    Skill  Count\n",
       "0           data analysis    263\n",
       "1                     sql    123\n",
       "2            data analyst    111\n",
       "3                  python    110\n",
       "4              analytical     99\n",
       "5          data analytics     74\n",
       "6                power bi     71\n",
       "7               analytics     68\n",
       "8                    data     64\n",
       "9         data management     50\n",
       "10           data quality     46\n",
       "11       machine learning     42\n",
       "12  business intelligence     42\n",
       "13                tableau     39\n",
       "14            data mining     38\n",
       "15       computer science     37\n",
       "16     data visualization     36\n",
       "17             automation     32\n",
       "18                  excel     30\n",
       "19          data modeling     30"
      ]
     },
     "execution_count": 18,
     "metadata": {},
     "output_type": "execute_result"
    }
   ],
   "source": [
    "skills_count_df.head(20)"
   ]
  },
  {
   "cell_type": "code",
   "execution_count": null,
   "metadata": {
    "id": "mCdwScrKdFa8",
    "outputId": "0b57e622-59d0-4ed0-c7f3-656a39c4655a"
   },
   "outputs": [
    {
     "name": "stdout",
     "output_type": "stream",
     "text": [
      "['data analysis', 'sql', 'data analyst', 'python', 'analytical', 'data analytics', 'power bi', 'analytics', 'data', 'data management', 'data quality', 'machine learning', 'business intelligence', 'tableau', 'data mining', 'computer science', 'data visualization', 'automation', 'excel', 'data modeling', 'project management', 'business analysis', 'management', 'agile', 'sas', 'operations', 'forecasting', 'data collection', 'healthcare', 'data science', 'analysis', 'consulting', 'supply chain', 'market research', 'javascript', 'data processing', 'data warehousing', 'hive', 'research', 'information technology', 'google analytics', 'r', 'data validation', 'sap', 'coding', 'process improvement', 'etl', 'san', 'analytical skills', 'predictive modeling', 'data engineering', 'troubleshooting', 'business analytics', 'bi', 'erp', 'microsoft', 'pyspark', 'macros', 'modeling', 'oracle', 'mis', 'vlookup', 'risk management', 'networking', 'digital marketing', 'monitoring', 'manager quality assurance', 'advanced excel', 'mysql', 'usage', 'financial analysis', 'ms office', 'natural language processing', 'microsoft azure', 'scala', 'statistical analysis', 'data governance', 'algorithms', 'statistics', 'big data', 'business objects', 'data structures', 'plsql', 'mis reporting', 'gcp', 'data manipulation', 'database', 'spss', 'marketing analytics', 'training', 'sql queries', 'financial services', 'senior data analyst', 'artificial intelligence', 'programming', 'manager technology', 'data mapping', 'pivot table', 'qlikview', 'business strategy', 'senior analyst', 'due diligence', 'continuous improvement', 'unix', 'web analytics', 'data extraction', 'mathematics', 'metadata', 'operational excellence', 'aws', 'business solutions', 'process optimization', 'data cleansing', 'strategic planning', 'finance', 'communication skills', 'reporting', 'compliance', 'xml', 'statistical modeling', 'product engineering', 'ssis', 'linux', 'manager quality control', 'nosql', 'information security', 'simulation', 'bfsi', 'data security', 'business process', 'pharma', 'pdf', 'informatica', 'stakeholder management', 'c++', 'procurement', 'marketing', 'senior', 'database management', 'database design', 'git', 'spark', 'data integrity', 'data privacy', 'jira', 'social media', 'recruitment', 'insights', 'azure databricks', 'crm', 'project delivery', 'azure data factory', 'report writing', 'power automate', 'ml', 'information management', 'logistics', 'claims', 'workflow', 'matlab', 'medical insurance', 'tensorflow', 'data pipeline', 'presentation skills', 'open source', 'product management', 'shell scripting', 'powerbi', 'sql database', 'html', 'adobe', 'stakeholder engagement', 'mongodb', 'cloud services', 'quality engineering', 'cloud', 'reconciliation', 'business data analyst', 'azure', 'dashboards', 'not provided', 'publishing', 'soc', 'predictive', 'service level', 'individual contributor', 'data integration', 'hp data protector', 'snowflake', 'debugging', 'supply chain management', 'operations research', 'cognos', 'machine', 'advance sql', 'customer service', 'cloudera', 'customer experience', 'pandas', 'analyst', 'data dictionary', 'performance tuning', 'focus', 'apache', 'change management', 'senior management', 'business reporting', 'dbms', 'financial inclusion', 'sr', 'digital media', 'neural networks', 'subject matter expert', 'big data analytics', 'mapping', 'data engineer', 'marketing operations', 'sales', 'project planning', 'adobe analytics', 'factor analysis', 'primary research', 'airflow', 'sms', 'product marketing', 'budgeting', 'scheduling', 'advanced analytics', 'anova', 'reporting tools', 'json', 'postgresql', 'sql server', 'trend analysis', 'business analyst', 'vba', 'automotive', 'windows', 'data profiling', 'it services', 'numpy', 'outsourcing', 'kpi', 'diversity and inclusion', 'deep learning', 'oncology', 'front end', 'science', 'financial reporting', 'market analysis', 'power apps', 'analysts', 'genetics', 'payroll', 'bigquery', 'engineering services', 'financial planning', 'telecom', 'powerpoint', 'data reporting', 'scikit-learn', 'hql', 'olap', 'hypothesis testing', 'data operations', 'powerapps', 'anti money laundering', 'health insurance', 'c#', 'interpersonal skills', 'operations management', 'microstrategy', 'gap analysis', 'business insights', 'ehr', 'continuous integration', 'e-commerce', 'client management', 'literature', 'post production', 'c', 'remediation', 'sla', 'logistic regression', 'application analyst', 'credit risk', 'process orientation', 'process automation', 'agile methodology', 'intelligence', 'static data', 'matplotlib', 'data migration', 'process documentation', 'business process management', 'business data analysis', 'performance optimization', 'report generation', 'vice president marketing', 'sem', 'service delivery', 'english', 'application support', 'css', 'schema', 'gaming', 'eda', 'data transformation', 'oozie', 'system maintenance', 'taxation', 'bi tools', 'microsoft power bi', 'database administration', 'sales operations', 'us healthcare', 'computer vision', 'consumer behaviour', 'ab testing', 'selection process', 'sas analyst', 'team management', 'data interpretation', 'monetization', 'client service management', 'rest', 'cyber security', 'iso 27001', 'redhat', 'version control', 'typing speed', 'application', 'oops', 'confluence', 'seo', 'capital market', 'credit analysis', 'six sigma certified', 'life sciences', 'german', 'java', 'data research', 'internship', 'gdp', 'development', 'sharepoint', 'workday', 'diagnostics', 'career development', 'actuarial', 'configuration', 'data enrichment', 'linear regression', 'competitive analysis', 'data research analyst', 'wellness', 'software design', 'visualization technologies', 'agile development', 'ssrs', 'digital', 'stored procedures', 'assurance', 'scrum', 'technical support', 'loans', 'staffing', 'back office', 'b2b', 'engineering', 'rdbms', 'analyst 3', 'product analyst', 'data modelling', 'problem solving', 'application development', 'test cases', 'management consulting', 'mutual funds', 'industry research', 'query', 'cassandra', 'business rules', 'salesforce', 'value engineering', 'billing', 'semiconductor', 'analyst ii', 'teradata', 'min', 'iso', 'environmental science', 'product service', 'material management', 'ms word', 'healthcare data', 'devops', 'credit', 'pivot', 'formulas', 'ms excel', 'odia', 'access controls', 'data masking', 'robust access controls', 'data cloud', 'tokenization', 'cloud encryption', 'cma', 'technical writing', 'risk analytics', 'property management', 'relationship management', 'content writing', 'cost', 'lean manufacturing', 'basic', 'management systems', 'conceptualization', 'autodesk', 'hr', 'operations analyst', 'variance analysis', 'fmcg', 'costing', 'pytorch', 'written communication', 'e-learning', 'investigation', 'relationship executive', 'com', 'project estimation', 'google tag manager', 'tagging', 'dns', 'fhir', 'sdlc', 'facilitation', 'documentation', 'quanvert', 'django', 'kaizen', 'advanced', 'problem', 'email', 'healthcare/business knowledge', 'excellent sql', 'qnxt/schema', 'conversion/interface/reporting experience', 'adobe launch', 'gtm', 'data architecture', 'level', 'target', 'process', 'english language', 'internet surfing', 'building', 'testing', 'quality check', 'star', 'sql pl sql', 'good communication skills', 'be', 'data analysts', 'cgi', 'french', 'business consulting', 'user acceptance testing', 'consumer electronics', 'it skills', 'reports', 'cnn', 'scipy', 'tm', 'sdms', 'tableu', 'contracts', 'hr reporting', 'advanced ms excel', 'hr compliance', 'hr shared services', 'kannada', 'fintech', 'operating systems', 'ms sql', 'keras', 'dataorama', 'google cloud platform. etc. data visualization using tools like tableau', 'spotfire', 'business executive', 'business excellence', 'marketing programs', 'data entry operation', 'video', 'data entry', 'word', 'product portfolio', 'ms office suite', 'product quality', 'business management', 'facility planning', 'hadoop', 'project documentation', 'process re-engineering', 'presales', 'zoho analytics', 'data accuracy', 'advance excel', 'esp', 'splunk', 'social networking', 'iso 9001', 'index match', 'red', 'quality standards', 'fixed income', 'operational risk', 'it operations', 'link building', 'associate data analyst', 'process associate', 'design development', 'investment analyst', 'strategy consulting', 'bpmn', 'automation testing', 'modeler', 'er studio', 'quality', 'governance', 'data steward', 'metadata management', 'collibra', 'risk', 'data privacy analysis', 'onedrive', 'data informatics analysis', 'statistical programming', 'structured finance', 'financial statements', 'global marketing', 'customer engagement', 'business requirements', 'online sales', 'cash flow', 'hospitality', 'driving', 'hr generalist activities', 'erection', 'case management', 'vertical', 'hro', 'office equipment', 'stock exchange', 'rpa', 'business process modeling', 'cloud technologies', 'scripting languages', 'ab initio', 'infrastructure management', 'machine learning algorithms', 'electrical engineering', 'pentaho', 'flow', 'biochemical tests', 'flow cytometry', 'anesthesia', 'radiology', 'technology management', 'portfolio', 'marketing communication', 'advertising agency', 'banking sector', 'cost reduction', 'data privacy safeguards', 'software development', 'qlik sense', 'charts', 'mis preparation', 'senior executive', 'income tax', 'vendor', 'vendor management', 'data protection', 'tprm', 'delegation', 'oil', 'preventive maintenance', 'talend', 'distribution system', 'client servicing', 'project development', 'fraud', 'credit data scientist', 'us credit card', 'snowflake db', 'datafactory', 'adf', 'inventory management', 'web technologies', 'tibco', 'architecture', 'cloud computing', 'business administration', 'sds', 'resource management', 'root cause analysis', 'big data technologies', 'predictive analytics', 'aws emr', 'cisa', 'reports and dashboards', 'rest api development', 'team leadership', 'consumables', 'seaborn', 'ggplot2', 'migration', 'transformation', 'healthcare domain', 'supply chain analytics', 'bpo', 'testing methodologies', 'strategic marketing', 'data integration tools', 'android', 'sales lead generation', 'copy editing', 'data operation', 'bricks', 'data bricks', 'lead generation', 'manager materials', 'master data management', 'sap erp', 'microbiology', 'presto', 'factory', 'sisense', 'critical thinking', 'tsql', 'rca', 'operations planning', 'sensors', 'integration', 'adaptability', 'adaptable', 'bachelors', 'eager to learn', 'excel report preparation', 'data engineering tools', 'ai/bi tools', 'financial data', 'hive sql', 'hl7 v2', 'emr clinical', 'team', 'azure machine learning', 'software testing', 'edi', 'user management', 'saml', 'head business development', 'azure functions', 'rstudio', 'alteryx', 'microsoft dynamics 365 crm', 'open-source', 'rules', 'uipath', 'business development', 'video conferencing', 'performance management', 'data warehouses', 'record management process', 'ict', 'software development life cycle', 'service assurance', 'investment banking', 'trade finance', 'development manager', 'edi data', '835s', 'ccda', 'cleansing', 'mro', 'taxonomy', 'software services', 'online advertising', 'rf', 'script writing', 'backend', 'claims processing', 'process integration', 'r programming', 'data wrangling', 'exploration', 'elt', 'cd', 'blue', 'application lifecycle management', 'gaap', 'business process improvement', 'asset management', 'data analysis and machine learning', 'ucsc genome browser', 'samtools', 'google', 'wfo', 'data governance & integrity', 'ncbi', 'genomics analysis', 'algorithm and workflow design', 'retail analysis', 'portfolio management', 'underwriting', 'ms power bi', 'spanish', 'global strategy', 'petroleum', 'leasing', 'oracle sql', 'customer behavior analysis', 'a/b testing', 'sql proficiency', 'dax', 'power bi reports', 'bi tool', 'technical analysis', 'software quality assurance', 'big data testing', 'downstream', 'looker', 'big query', 'verbal communication', 'sas programming', 'uat', 'uvt', 'python programming', 'sas analytics', 'sas viya', 'optimization', 'integration strategies', 'database migration', 'mdm', 'server management', 'pl/sql', 'power query', 'secondary research', 'financial research', 'company profiling', 'master data', 'customer data management', 'sap bi', 'multivariate analysis', 'it audit', 'auditing', 'incident management', 'manager internal audit', 'business head', 'project', 'ai/ml', 'triggers', 'views', 'direct tax', 'document management', 'flooring', 'plaster', 'plm', 'crm management', 'commerce', 'qa', 'online research', 'investment research', 'financial markets', 'investment products', 'microsoft dynamics', 'test scripts', 'company', 'profiling', 'clinical data', 'clinical research', 'cdm', 'clinical data management', 'campaign management', 'campaign analyst', 'campaign report', 'post campaign analysis', 'campaign analytics', 'client relationship management', 'management skills', 'ruby', 'supply chain solutions', 'supply chain operations', 'direct', 'data pull analysis', 'webfocus', 'frontend development', 'test planning', 'marketing data analysis', 'python data analytics', 'canape', 'canoe', 'marketing analysis tools', 'etl pipelines', 'servicenow', 'health', 'it analyst', 'gts', 'google data studio', 'data analysis tools', 'clinical', 'azure data engineer', 'data warehouse management', 'azure synapse analytics', 'insight generation', 'warehouse', 'data warehouse', 'quality profiling', 'data governance operating model', 'data quality profiling', 'data quality management', 'informatica axon', 'quantitative analyst', 'saas', 'project governance', 'relationship building', 'customer acquisition', 'commercial real estate', 'investment management', 'web services', 'analyst 2', 'pytest', 'csv', 'product analytics', 'intern', 'merchandising', 'scouting', 'statistical analyst', 'pushing data to restful api', 'data framework', 'transforming data', 'sql reporting service', 'powershell scripting', 'sas sql', 'couchdb', 'big data analyst', 'web designing', 'web development', 'agile scrum', 'business modeling', 'packaging', 'quality control', 'gps', 'regression analysis', 'data collection systems', 'database design development', 'secondary data', 'hlookup', '', 'team building', 'accounting', 'manager program management', 'user interface designing', 'ajax', 'jquery', 'bioinformatics', 'information retrieval', 'text mining', 'market data', 'market risk', 'quality analysis', 'client development', 'business planning', 'product design', 'db2', 'hadoop stack', 'ms access', 'dashboard development', 'functional testing', 'control', 'healthcare operations', 'production support', 'pharmacy', 'renewable energy', 'microservices', 'hibernate', 'maven', 'customer support', 'http', 'forensic', 'retail', 'matrix', 'email marketing', 'technical management', 'gis', 'marathi', 'urdu', 'malayalam', 'geography', 'oriya', 'mining', 'brand management', 'regression testing', 'testing tools', 'system testing', 'github', 'ansi x2']\n"
     ]
    }
   ],
   "source": [
    "skill_names = skills_count_df['Skill'].tolist()\n",
    "\n",
    "# Print the list of skill names\n",
    "print(skill_names)"
   ]
  },
  {
   "cell_type": "code",
   "execution_count": null,
   "metadata": {
    "id": "2NqLmD7zdFa8",
    "outputId": "a2a45078-0548-4407-e626-6531e95d33a6"
   },
   "outputs": [
    {
     "name": "stdout",
     "output_type": "stream",
     "text": [
      "{'data analysis': 263, 'sql': 123, 'data analyst': 111, 'python': 110, 'analytical': 99, 'data analytics': 74, 'power bi': 71, 'analytics': 68, 'data': 64, 'data management': 50, 'data quality': 46, 'machine learning': 42, 'business intelligence': 42, 'tableau': 39, 'data mining': 38, 'computer science': 37, 'data visualization': 36, 'automation': 32, 'excel': 30, 'data modeling': 30, 'project management': 29, 'business analysis': 26, 'management': 26, 'agile': 25, 'sas': 22, 'operations': 21, 'forecasting': 20, 'data collection': 20, 'healthcare': 20, 'data science': 19, 'analysis': 18, 'consulting': 18, 'supply chain': 18, 'market research': 17, 'javascript': 17, 'data processing': 17, 'data warehousing': 16, 'hive': 16, 'research': 16, 'information technology': 15, 'google analytics': 15, 'r': 15, 'data validation': 15, 'sap': 15, 'coding': 15, 'process improvement': 15, 'etl': 15, 'san': 14, 'analytical skills': 14, 'predictive modeling': 14, 'data engineering': 13, 'troubleshooting': 13, 'business analytics': 13, 'bi': 13, 'erp': 13, 'microsoft': 13, 'pyspark': 13, 'macros': 13, 'modeling': 12, 'oracle': 12, 'mis': 12, 'vlookup': 12, 'risk management': 12, 'networking': 12, 'digital marketing': 11, 'monitoring': 11, 'manager quality assurance': 11, 'advanced excel': 11, 'mysql': 11, 'usage': 11, 'financial analysis': 11, 'ms office': 10, 'natural language processing': 10, 'microsoft azure': 10, 'scala': 9, 'statistical analysis': 9, 'data governance': 9, 'algorithms': 9, 'statistics': 9, 'big data': 9, 'business objects': 9, 'data structures': 9, 'plsql': 8, 'mis reporting': 8, 'gcp': 8, 'data manipulation': 8, 'database': 8, 'spss': 8, 'marketing analytics': 8, 'training': 8, 'sql queries': 8, 'financial services': 8, 'senior data analyst': 8, 'artificial intelligence': 8, 'programming': 8, 'manager technology': 8, 'data mapping': 8, 'pivot table': 7, 'qlikview': 7, 'business strategy': 7, 'senior analyst': 7, 'due diligence': 7, 'continuous improvement': 7, 'unix': 7, 'web analytics': 7, 'data extraction': 7, 'mathematics': 7, 'metadata': 7, 'operational excellence': 7, 'aws': 7, 'business solutions': 6, 'process optimization': 6, 'data cleansing': 6, 'strategic planning': 6, 'finance': 6, 'communication skills': 6, 'reporting': 6, 'compliance': 6, 'xml': 6, 'statistical modeling': 6, 'product engineering': 6, 'ssis': 6, 'linux': 6, 'manager quality control': 6, 'nosql': 6, 'information security': 5, 'simulation': 5, 'bfsi': 5, 'data security': 5, 'business process': 5, 'pharma': 5, 'pdf': 5, 'informatica': 5, 'stakeholder management': 5, 'c++': 5, 'procurement': 5, 'marketing': 5, 'senior': 5, 'database management': 5, 'database design': 5, 'git': 5, 'spark': 5, 'data integrity': 5, 'data privacy': 5, 'jira': 5, 'social media': 5, 'recruitment': 5, 'insights': 5, 'azure databricks': 5, 'crm': 5, 'project delivery': 5, 'azure data factory': 5, 'report writing': 4, 'power automate': 4, 'ml': 4, 'information management': 4, 'logistics': 4, 'claims': 4, 'workflow': 4, 'matlab': 4, 'medical insurance': 4, 'tensorflow': 4, 'data pipeline': 4, 'presentation skills': 4, 'open source': 4, 'product management': 4, 'shell scripting': 4, 'powerbi': 4, 'sql database': 4, 'html': 4, 'adobe': 4, 'stakeholder engagement': 4, 'mongodb': 4, 'cloud services': 4, 'quality engineering': 4, 'cloud': 4, 'reconciliation': 4, 'business data analyst': 4, 'azure': 4, 'dashboards': 4, 'not provided': 4, 'publishing': 4, 'soc': 4, 'predictive': 4, 'service level': 4, 'individual contributor': 4, 'data integration': 4, 'hp data protector': 4, 'snowflake': 4, 'debugging': 4, 'supply chain management': 4, 'operations research': 4, 'cognos': 4, 'machine': 4, 'advance sql': 4, 'customer service': 4, 'cloudera': 4, 'customer experience': 4, 'pandas': 4, 'analyst': 4, 'data dictionary': 4, 'performance tuning': 4, 'focus': 4, 'apache': 4, 'change management': 4, 'senior management': 3, 'business reporting': 3, 'dbms': 3, 'financial inclusion': 3, 'sr': 3, 'digital media': 3, 'neural networks': 3, 'subject matter expert': 3, 'big data analytics': 3, 'mapping': 3, 'data engineer': 3, 'marketing operations': 3, 'sales': 3, 'project planning': 3, 'adobe analytics': 3, 'factor analysis': 3, 'primary research': 3, 'airflow': 3, 'sms': 3, 'product marketing': 3, 'budgeting': 3, 'scheduling': 3, 'advanced analytics': 3, 'anova': 3, 'reporting tools': 3, 'json': 3, 'postgresql': 3, 'sql server': 3, 'trend analysis': 3, 'business analyst': 3, 'vba': 3, 'automotive': 3, 'windows': 3, 'data profiling': 3, 'it services': 3, 'numpy': 3, 'outsourcing': 3, 'kpi': 3, 'diversity and inclusion': 3, 'deep learning': 3, 'oncology': 3, 'front end': 3, 'science': 3, 'financial reporting': 3, 'market analysis': 3, 'power apps': 3, 'analysts': 3, 'genetics': 3, 'payroll': 3, 'bigquery': 3, 'engineering services': 3, 'financial planning': 3, 'telecom': 3, 'powerpoint': 3, 'data reporting': 3, 'scikit-learn': 3, 'hql': 3, 'olap': 3, 'hypothesis testing': 3, 'data operations': 3, 'powerapps': 3, 'anti money laundering': 3, 'health insurance': 3, 'c#': 3, 'interpersonal skills': 3, 'operations management': 3, 'microstrategy': 3, 'gap analysis': 2, 'business insights': 2, 'ehr': 2, 'continuous integration': 2, 'e-commerce': 2, 'client management': 2, 'literature': 2, 'post production': 2, 'c': 2, 'remediation': 2, 'sla': 2, 'logistic regression': 2, 'application analyst': 2, 'credit risk': 2, 'process orientation': 2, 'process automation': 2, 'agile methodology': 2, 'intelligence': 2, 'static data': 2, 'matplotlib': 2, 'data migration': 2, 'process documentation': 2, 'business process management': 2, 'business data analysis': 2, 'performance optimization': 2, 'report generation': 2, 'vice president marketing': 2, 'sem': 2, 'service delivery': 2, 'english': 2, 'application support': 2, 'css': 2, 'schema': 2, 'gaming': 2, 'eda': 2, 'data transformation': 2, 'oozie': 2, 'system maintenance': 2, 'taxation': 2, 'bi tools': 2, 'microsoft power bi': 2, 'database administration': 2, 'sales operations': 2, 'us healthcare': 2, 'computer vision': 2, 'consumer behaviour': 2, 'ab testing': 2, 'selection process': 2, 'sas analyst': 2, 'team management': 2, 'data interpretation': 2, 'monetization': 2, 'client service management': 2, 'rest': 2, 'cyber security': 2, 'iso 27001': 2, 'redhat': 2, 'version control': 2, 'typing speed': 2, 'application': 2, 'oops': 2, 'confluence': 2, 'seo': 2, 'capital market': 2, 'credit analysis': 2, 'six sigma certified': 2, 'life sciences': 2, 'german': 2, 'java': 2, 'data research': 2, 'internship': 2, 'gdp': 2, 'development': 2, 'sharepoint': 2, 'workday': 2, 'diagnostics': 2, 'career development': 2, 'actuarial': 2, 'configuration': 2, 'data enrichment': 2, 'linear regression': 2, 'competitive analysis': 2, 'data research analyst': 2, 'wellness': 2, 'software design': 2, 'visualization technologies': 2, 'agile development': 2, 'ssrs': 2, 'digital': 2, 'stored procedures': 2, 'assurance': 2, 'scrum': 2, 'technical support': 2, 'loans': 2, 'staffing': 2, 'back office': 2, 'b2b': 2, 'engineering': 2, 'rdbms': 2, 'analyst 3': 2, 'product analyst': 2, 'data modelling': 2, 'problem solving': 2, 'application development': 2, 'test cases': 2, 'management consulting': 2, 'mutual funds': 2, 'industry research': 2, 'query': 2, 'cassandra': 2, 'business rules': 2, 'salesforce': 2, 'value engineering': 2, 'billing': 2, 'semiconductor': 2, 'analyst ii': 2, 'teradata': 2, 'min': 2, 'iso': 2, 'environmental science': 2, 'product service': 2, 'material management': 2, 'ms word': 2, 'healthcare data': 1, 'devops': 1, 'credit': 1, 'pivot': 1, 'formulas': 1, 'ms excel': 1, 'odia': 1, 'access controls': 1, 'data masking': 1, 'robust access controls': 1, 'data cloud': 1, 'tokenization': 1, 'cloud encryption': 1, 'cma': 1, 'technical writing': 1, 'risk analytics': 1, 'property management': 1, 'relationship management': 1, 'content writing': 1, 'cost': 1, 'lean manufacturing': 1, 'basic': 1, 'management systems': 1, 'conceptualization': 1, 'autodesk': 1, 'hr': 1, 'operations analyst': 1, 'variance analysis': 1, 'fmcg': 1, 'costing': 1, 'pytorch': 1, 'written communication': 1, 'e-learning': 1, 'investigation': 1, 'relationship executive': 1, 'com': 1, 'project estimation': 1, 'google tag manager': 1, 'tagging': 1, 'dns': 1, 'fhir': 1, 'sdlc': 1, 'facilitation': 1, 'documentation': 1, 'quanvert': 1, 'django': 1, 'kaizen': 1, 'advanced': 1, 'problem': 1, 'email': 1, 'healthcare/business knowledge': 1, 'excellent sql': 1, 'qnxt/schema': 1, 'conversion/interface/reporting experience': 1, 'adobe launch': 1, 'gtm': 1, 'data architecture': 1, 'level': 1, 'target': 1, 'process': 1, 'english language': 1, 'internet surfing': 1, 'building': 1, 'testing': 1, 'quality check': 1, 'star': 1, 'sql pl sql': 1, 'good communication skills': 1, 'be': 1, 'data analysts': 1, 'cgi': 1, 'french': 1, 'business consulting': 1, 'user acceptance testing': 1, 'consumer electronics': 1, 'it skills': 1, 'reports': 1, 'cnn': 1, 'scipy': 1, 'tm': 1, 'sdms': 1, 'tableu': 1, 'contracts': 1, 'hr reporting': 1, 'advanced ms excel': 1, 'hr compliance': 1, 'hr shared services': 1, 'kannada': 1, 'fintech': 1, 'operating systems': 1, 'ms sql': 1, 'keras': 1, 'dataorama': 1, 'google cloud platform. etc. data visualization using tools like tableau': 1, 'spotfire': 1, 'business executive': 1, 'business excellence': 1, 'marketing programs': 1, 'data entry operation': 1, 'video': 1, 'data entry': 1, 'word': 1, 'product portfolio': 1, 'ms office suite': 1, 'product quality': 1, 'business management': 1, 'facility planning': 1, 'hadoop': 1, 'project documentation': 1, 'process re-engineering': 1, 'presales': 1, 'zoho analytics': 1, 'data accuracy': 1, 'advance excel': 1, 'esp': 1, 'splunk': 1, 'social networking': 1, 'iso 9001': 1, 'index match': 1, 'red': 1, 'quality standards': 1, 'fixed income': 1, 'operational risk': 1, 'it operations': 1, 'link building': 1, 'associate data analyst': 1, 'process associate': 1, 'design development': 1, 'investment analyst': 1, 'strategy consulting': 1, 'bpmn': 1, 'automation testing': 1, 'modeler': 1, 'er studio': 1, 'quality': 1, 'governance': 1, 'data steward': 1, 'metadata management': 1, 'collibra': 1, 'risk': 1, 'data privacy analysis': 1, 'onedrive': 1, 'data informatics analysis': 1, 'statistical programming': 1, 'structured finance': 1, 'financial statements': 1, 'global marketing': 1, 'customer engagement': 1, 'business requirements': 1, 'online sales': 1, 'cash flow': 1, 'hospitality': 1, 'driving': 1, 'hr generalist activities': 1, 'erection': 1, 'case management': 1, 'vertical': 1, 'hro': 1, 'office equipment': 1, 'stock exchange': 1, 'rpa': 1, 'business process modeling': 1, 'cloud technologies': 1, 'scripting languages': 1, 'ab initio': 1, 'infrastructure management': 1, 'machine learning algorithms': 1, 'electrical engineering': 1, 'pentaho': 1, 'flow': 1, 'biochemical tests': 1, 'flow cytometry': 1, 'anesthesia': 1, 'radiology': 1, 'technology management': 1, 'portfolio': 1, 'marketing communication': 1, 'advertising agency': 1, 'banking sector': 1, 'cost reduction': 1, 'data privacy safeguards': 1, 'software development': 1, 'qlik sense': 1, 'charts': 1, 'mis preparation': 1, 'senior executive': 1, 'income tax': 1, 'vendor': 1, 'vendor management': 1, 'data protection': 1, 'tprm': 1, 'delegation': 1, 'oil': 1, 'preventive maintenance': 1, 'talend': 1, 'distribution system': 1, 'client servicing': 1, 'project development': 1, 'fraud': 1, 'credit data scientist': 1, 'us credit card': 1, 'snowflake db': 1, 'datafactory': 1, 'adf': 1, 'inventory management': 1, 'web technologies': 1, 'tibco': 1, 'architecture': 1, 'cloud computing': 1, 'business administration': 1, 'sds': 1, 'resource management': 1, 'root cause analysis': 1, 'big data technologies': 1, 'predictive analytics': 1, 'aws emr': 1, 'cisa': 1, 'reports and dashboards': 1, 'rest api development': 1, 'team leadership': 1, 'consumables': 1, 'seaborn': 1, 'ggplot2': 1, 'migration': 1, 'transformation': 1, 'healthcare domain': 1, 'supply chain analytics': 1, 'bpo': 1, 'testing methodologies': 1, 'strategic marketing': 1, 'data integration tools': 1, 'android': 1, 'sales lead generation': 1, 'copy editing': 1, 'data operation': 1, 'bricks': 1, 'data bricks': 1, 'lead generation': 1, 'manager materials': 1, 'master data management': 1, 'sap erp': 1, 'microbiology': 1, 'presto': 1, 'factory': 1, 'sisense': 1, 'critical thinking': 1, 'tsql': 1, 'rca': 1, 'operations planning': 1, 'sensors': 1, 'integration': 1, 'adaptability': 1, 'adaptable': 1, 'bachelors': 1, 'eager to learn': 1, 'excel report preparation': 1, 'data engineering tools': 1, 'ai/bi tools': 1, 'financial data': 1, 'hive sql': 1, 'hl7 v2': 1, 'emr clinical': 1, 'team': 1, 'azure machine learning': 1, 'software testing': 1, 'edi': 1, 'user management': 1, 'saml': 1, 'head business development': 1, 'azure functions': 1, 'rstudio': 1, 'alteryx': 1, 'microsoft dynamics 365 crm': 1, 'open-source': 1, 'rules': 1, 'uipath': 1, 'business development': 1, 'video conferencing': 1, 'performance management': 1, 'data warehouses': 1, 'record management process': 1, 'ict': 1, 'software development life cycle': 1, 'service assurance': 1, 'investment banking': 1, 'trade finance': 1, 'development manager': 1, 'edi data': 1, '835s': 1, 'ccda': 1, 'cleansing': 1, 'mro': 1, 'taxonomy': 1, 'software services': 1, 'online advertising': 1, 'rf': 1, 'script writing': 1, 'backend': 1, 'claims processing': 1, 'process integration': 1, 'r programming': 1, 'data wrangling': 1, 'exploration': 1, 'elt': 1, 'cd': 1, 'blue': 1, 'application lifecycle management': 1, 'gaap': 1, 'business process improvement': 1, 'asset management': 1, 'data analysis and machine learning': 1, 'ucsc genome browser': 1, 'samtools': 1, 'google': 1, 'wfo': 1, 'data governance & integrity': 1, 'ncbi': 1, 'genomics analysis': 1, 'algorithm and workflow design': 1, 'retail analysis': 1, 'portfolio management': 1, 'underwriting': 1, 'ms power bi': 1, 'spanish': 1, 'global strategy': 1, 'petroleum': 1, 'leasing': 1, 'oracle sql': 1, 'customer behavior analysis': 1, 'a/b testing': 1, 'sql proficiency': 1, 'dax': 1, 'power bi reports': 1, 'bi tool': 1, 'technical analysis': 1, 'software quality assurance': 1, 'big data testing': 1, 'downstream': 1, 'looker': 1, 'big query': 1, 'verbal communication': 1, 'sas programming': 1, 'uat': 1, 'uvt': 1, 'python programming': 1, 'sas analytics': 1, 'sas viya': 1, 'optimization': 1, 'integration strategies': 1, 'database migration': 1, 'mdm': 1, 'server management': 1, 'pl/sql': 1, 'power query': 1, 'secondary research': 1, 'financial research': 1, 'company profiling': 1, 'master data': 1, 'customer data management': 1, 'sap bi': 1, 'multivariate analysis': 1, 'it audit': 1, 'auditing': 1, 'incident management': 1, 'manager internal audit': 1, 'business head': 1, 'project': 1, 'ai/ml': 1, 'triggers': 1, 'views': 1, 'direct tax': 1, 'document management': 1, 'flooring': 1, 'plaster': 1, 'plm': 1, 'crm management': 1, 'commerce': 1, 'qa': 1, 'online research': 1, 'investment research': 1, 'financial markets': 1, 'investment products': 1, 'microsoft dynamics': 1, 'test scripts': 1, 'company': 1, 'profiling': 1, 'clinical data': 1, 'clinical research': 1, 'cdm': 1, 'clinical data management': 1, 'campaign management': 1, 'campaign analyst': 1, 'campaign report': 1, 'post campaign analysis': 1, 'campaign analytics': 1, 'client relationship management': 1, 'management skills': 1, 'ruby': 1, 'supply chain solutions': 1, 'supply chain operations': 1, 'direct': 1, 'data pull analysis': 1, 'webfocus': 1, 'frontend development': 1, 'test planning': 1, 'marketing data analysis': 1, 'python data analytics': 1, 'canape': 1, 'canoe': 1, 'marketing analysis tools': 1, 'etl pipelines': 1, 'servicenow': 1, 'health': 1, 'it analyst': 1, 'gts': 1, 'google data studio': 1, 'data analysis tools': 1, 'clinical': 1, 'azure data engineer': 1, 'data warehouse management': 1, 'azure synapse analytics': 1, 'insight generation': 1, 'warehouse': 1, 'data warehouse': 1, 'quality profiling': 1, 'data governance operating model': 1, 'data quality profiling': 1, 'data quality management': 1, 'informatica axon': 1, 'quantitative analyst': 1, 'saas': 1, 'project governance': 1, 'relationship building': 1, 'customer acquisition': 1, 'commercial real estate': 1, 'investment management': 1, 'web services': 1, 'analyst 2': 1, 'pytest': 1, 'csv': 1, 'product analytics': 1, 'intern': 1, 'merchandising': 1, 'scouting': 1, 'statistical analyst': 1, 'pushing data to restful api': 1, 'data framework': 1, 'transforming data': 1, 'sql reporting service': 1, 'powershell scripting': 1, 'sas sql': 1, 'couchdb': 1, 'big data analyst': 1, 'web designing': 1, 'web development': 1, 'agile scrum': 1, 'business modeling': 1, 'packaging': 1, 'quality control': 1, 'gps': 1, 'regression analysis': 1, 'data collection systems': 1, 'database design development': 1, 'secondary data': 1, 'hlookup': 1, '': 1, 'team building': 1, 'accounting': 1, 'manager program management': 1, 'user interface designing': 1, 'ajax': 1, 'jquery': 1, 'bioinformatics': 1, 'information retrieval': 1, 'text mining': 1, 'market data': 1, 'market risk': 1, 'quality analysis': 1, 'client development': 1, 'business planning': 1, 'product design': 1, 'db2': 1, 'hadoop stack': 1, 'ms access': 1, 'dashboard development': 1, 'functional testing': 1, 'control': 1, 'healthcare operations': 1, 'production support': 1, 'pharmacy': 1, 'renewable energy': 1, 'microservices': 1, 'hibernate': 1, 'maven': 1, 'customer support': 1, 'http': 1, 'forensic': 1, 'retail': 1, 'matrix': 1, 'email marketing': 1, 'technical management': 1, 'gis': 1, 'marathi': 1, 'urdu': 1, 'malayalam': 1, 'geography': 1, 'oriya': 1, 'mining': 1, 'brand management': 1, 'regression testing': 1, 'testing tools': 1, 'system testing': 1, 'github': 1, 'ansi x2': 1}\n"
     ]
    }
   ],
   "source": [
    "skills_count_dict = skills_count_df.set_index('Skill')['Count'].to_dict()\n",
    "\n",
    "# Print the dictionary\n",
    "print(skills_count_dict)"
   ]
  }
 ],
 "metadata": {
  "colab": {
   "provenance": []
  },
  "kernelspec": {
   "display_name": "Python 3",
   "language": "python",
   "name": "python3"
  },
  "language_info": {
   "codemirror_mode": {
    "name": "ipython",
    "version": 3
   },
   "file_extension": ".py",
   "mimetype": "text/x-python",
   "name": "python",
   "nbconvert_exporter": "python",
   "pygments_lexer": "ipython3",
   "version": "3.10.3"
  }
 },
 "nbformat": 4,
 "nbformat_minor": 0
}
